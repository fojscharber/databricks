{
 "cells": [
  {
   "cell_type": "code",
   "execution_count": 0,
   "metadata": {
    "application/vnd.databricks.v1+cell": {
     "cellMetadata": {
      "byteLimit": 2048000,
      "rowLimit": 10000
     },
     "inputWidgets": {},
     "nuid": "e858e373-f1bb-4e10-9d6a-bb1d1fe6a9fc",
     "showTitle": false,
     "title": ""
    }
   },
   "outputs": [
    {
     "output_type": "stream",
     "name": "stdout",
     "output_type": "stream",
     "text": [
      "('Cannibalism', 'Samples', 'Deformed column', 'Disease', 'Deformed operculum', 'Environmental', 'Lagging', 'IncubaciÃ³n ', 'Mechanical damage', 'Deformity', 'Deformed jaw', 'No apparent cause', 'Normal')\n"
     ]
    }
   ],
   "source": [
    "distinct_causes_df = spark.sql(\"\"\"\n",
    "    SELECT DISTINCT(designation)\n",
    "    FROM aquamanager_hatchery_dbo.cause\n",
    "\"\"\")\n",
    "\n",
    "# Collecting the results and converting them into a tuple\n",
    "causes_tuple = tuple(row.designation for row in distinct_causes_df.collect())\n",
    "\n",
    "# Show the created tuple\n",
    "print(causes_tuple)"
   ]
  },
  {
   "cell_type": "code",
   "execution_count": 0,
   "metadata": {
    "application/vnd.databricks.v1+cell": {
     "cellMetadata": {
      "byteLimit": 2048000,
      "implicitDf": true,
      "rowLimit": 10000
     },
     "inputWidgets": {},
     "nuid": "4a83794c-ef95-4e73-8c3a-4211856e1383",
     "showTitle": false,
     "title": ""
    }
   },
   "outputs": [
    {
     "output_type": "execute_result",
     "data": {
      "text/plain": [
       "DataFrame[]"
      ]
     },
     "execution_count": 17,
     "metadata": {},
     "output_type": "execute_result"
    }
   ],
   "source": [
    "spark.sql(f\"\"\"\n",
    "        CREATE OR REPLACE VIEW aquamanager_hatchery_dbo.view_nursery_report AS(\n",
    "SELECT *\n",
    "FROM (\n",
    "    SELECT \n",
    "       costmain.costdate as Fetcha, tank.designation as Tanque_Destino,costmain.startfishnoatnursery as Peces_Inicial,\n",
    "       costmain.startavgweightatnursery as Peso_gr,costmain.age as DPH,costmain.daymortalno as Mortalidad_N,costmain.accmortalno as Mortalidad_acc_N,\n",
    "       CAST((costmain.daymortalno/costmain.startfishnoatnursery) * 100 as decimal(10,4)) as Mortalidad_per,\n",
    "       CAST((costmain.accmortalno/costmain.startfishnoatnursery) * 100 as decimal(10,4)) as Mortalidad_acc_per,\n",
    "       costmain.startfishnoatnursery - costmain.accmortalno as Peces_Final,\n",
    "       --tltransdetails.tanklotid,\n",
    "       cause.designation as cause_of_death,\n",
    "       count(cause.designation) as number_of_death_fish\n",
    "    FROM aquamanager_hatchery_dbo.costmain \n",
    "    LEFT JOIN aquamanager_hatchery_dbo.tanklot on (costmain.tanklotid = tanklot.tanklotid)\n",
    "    LEFT JOIN aquamanager_hatchery_dbo.tank on (tanklot.tankid = tank.tankid)\n",
    "    LEFT JOIN aquamanager_hatchery_dbo.tltransdetails on (costmain.tanklotid = tltransdetails.tanklotid)\n",
    "    LEFT JOIN aquamanager_hatchery_dbo.cause on (cause.causeid = tltransdetails.causeid)\n",
    "    WHERE tank.designation IN (select distinct(designation) from aquamanager_hatchery_dbo.tank where designation like \"N%\")\n",
    "        AND cause.designation IS NOT NULL \n",
    "        AND costdate like '2023-07-%%'\n",
    "    GROUP BY ALL\n",
    ") as SourceTable\n",
    "PIVOT (\n",
    "    count(number_of_death_fish)\n",
    "    FOR cause_of_death IN {causes_tuple}\n",
    ")\n",
    "ORDER BY Fetcha);\"\"\")#.createOrReplaceTempView(\"temp_view_nursery_report\")\n"
   ]
  },
  {
   "cell_type": "code",
   "execution_count": 0,
   "metadata": {
    "application/vnd.databricks.v1+cell": {
     "cellMetadata": {},
     "inputWidgets": {},
     "nuid": "28be2fb9-85b4-4418-9ed4-8e8cdfa8f959",
     "showTitle": false,
     "title": ""
    }
   },
   "outputs": [],
   "source": []
  }
 ],
 "metadata": {
  "application/vnd.databricks.v1+notebook": {
   "dashboards": [],
   "language": "python",
   "notebookMetadata": {
    "mostRecentlyExecutedCommandWithImplicitDF": {
     "commandId": 1651519813262313,
     "dataframes": [
      "_sqldf"
     ]
    },
    "pythonIndentUnit": 4
   },
   "notebookName": "view_nursery_report",
   "widgets": {}
  }
 },
 "nbformat": 4,
 "nbformat_minor": 0
}

