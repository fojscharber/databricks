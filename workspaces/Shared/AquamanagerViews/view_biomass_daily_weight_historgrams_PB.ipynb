{
 "cells": [
  {
   "cell_type": "code",
   "execution_count": 0,
   "metadata": {
    "application/vnd.databricks.v1+cell": {
     "cellMetadata": {
      "byteLimit": 2048000,
      "rowLimit": 10000
     },
     "inputWidgets": {},
     "nuid": "14ac07f6-782b-49d7-98ca-b10963c69c16",
     "showTitle": false,
     "title": ""
    }
   },
   "outputs": [
    {
     "output_type": "display_data",
     "data": {
      "application/vnd.databricks.v1+bamboolib_hint": "{\"pd.DataFrames\": [], \"version\": \"0.0.1\"}",
      "text/plain": []
     },
     "metadata": {},
     "output_type": "display_data"
    }
   ],
   "source": [
    "import pandas as pd\n",
    "import logging\n",
    "import pdb\n",
    "\n",
    "from pyspark.sql.types import StringType, ArrayType, IntegerType, StructType, StructField\n",
    "\n",
    "\n",
    "def create_buckets(buckets, data):\n",
    "    rdd = sc.parallelize(data)\n",
    "    histogram = rdd.histogram(buckets)\n",
    "    return histogram\n",
    "\n",
    "def add_result(lastrow, offsetBuckets, weightBuckets, lengthBuckets):\n",
    "    newRow = dict()\n",
    "\n",
    "    newRow[\"camera\"] = lastrow.camera_name\n",
    "    newRow[\"timestamp\"] = lastrow.timestamp\n",
    "    newRow[\"year\"] = lastrow.year\n",
    "    newRow[\"month\"] = lastrow.month\n",
    "    newRow[\"day\"] = lastrow.day\n",
    "    newRow[\"offsetWeightHistogram\"] = offsetBuckets[1]\n",
    "    newRow[\"weightHistogram\"] = weightBuckets[1]\n",
    "    newRow[\"lengthHistogram\"] = lengthBuckets[1]\n",
    "    newRow[\"offsetWeightBuckets\"] = offsetBuckets[0]\n",
    "    newRow[\"weightBuckets\"] = weightBuckets[0]\n",
    "    newRow[\"lengthBuckets\"] = lengthBuckets[0]\n",
    "    histogramData.append(newRow)\n",
    "\n",
    "\n",
    "df = spark.read.table(\"hive_metastore.default.biomass_filtered\")\n",
    "\n",
    "# sdf = df.orderBy(\"camera_name\", \"year\", \"month\", \"day\").take(100000)\n",
    "sdf = df.orderBy(\"camera_name\", \"year\", \"month\", \"day\").collect()\n",
    "\n",
    "# track the current day\n",
    "lastrow = None\n",
    "lastitem = sdf[-1]\n",
    "\n",
    "# For final write back to delta\n",
    "histogramData = []\n",
    "\n",
    "# buckets to create\n",
    "accumulatedOffsetWeight = []\n",
    "accumulatedWeight = []\n",
    "accumulatedLength = []\n",
    "weight_buckets= [0,250,500,750,1000,1250,1500,1750,2000,2250,2500,2750,3000,3250,3500,3750,99999]\n",
    "lenght_buckets= [0, 10, 20, 30, 40, 50, 60, 70, 80, 90, 100]\n",
    "\n",
    "# only need to track if the day has changed\n",
    "for row in sdf:\n",
    "    if lastrow == None:\n",
    "        lastrow = row\n",
    "    #\n",
    "    if lastrow.day != row.day or row == lastitem:\n",
    "        # create buckets and add to histogramData frame\n",
    "        offsetWeightBuckets = create_buckets(weight_buckets, accumulatedOffsetWeight)\n",
    "        weightBuckets = create_buckets(weight_buckets, accumulatedWeight)\n",
    "        lengthBuckets = create_buckets(lenght_buckets, accumulatedLength)\n",
    "        add_result(lastrow, offsetWeightBuckets, weightBuckets, lengthBuckets)\n",
    "\n",
    "\n",
    "        # clear accumulated data \n",
    "        accumulatedOffsetWeight = []\n",
    "        accumulatedWeight = []\n",
    "        accumulatedLength = []\n",
    "\n",
    "        # update the last row\n",
    "        lastrow = row\n",
    "\n",
    "    else:\n",
    "        # accumulate data to bucket\n",
    "        accumulatedOffsetWeight.append(row.offset_weight)\n",
    "        accumulatedWeight.append(row.weight)\n",
    "        accumulatedLength.append(row.length)\n",
    "\n",
    "\n",
    "\n",
    "wdf = sc.parallelize(histogramData).toDF()\n",
    "wdf.write.mode(\"overwrite\").saveAsTable(\"default.view_biomass_daily_histograms_PB\")"
   ]
  },
  {
   "cell_type": "code",
   "execution_count": 0,
   "metadata": {
    "application/vnd.databricks.v1+cell": {
     "cellMetadata": {},
     "inputWidgets": {},
     "nuid": "63903590-1afc-4efd-b432-0af1e643796e",
     "showTitle": false,
     "title": ""
    }
   },
   "outputs": [],
   "source": []
  }
 ],
 "metadata": {
  "application/vnd.databricks.v1+notebook": {
   "dashboards": [],
   "language": "python",
   "notebookMetadata": {
    "pythonIndentUnit": 4
   },
   "notebookName": "view_biomass_daily_histograms_PB",
   "widgets": {}
  }
 },
 "nbformat": 4,
 "nbformat_minor": 0
}

