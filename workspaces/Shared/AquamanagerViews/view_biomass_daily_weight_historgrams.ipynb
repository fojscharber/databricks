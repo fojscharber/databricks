{
 "cells": [
  {
   "cell_type": "code",
   "execution_count": 0,
   "metadata": {
    "application/vnd.databricks.v1+cell": {
     "cellMetadata": {
      "byteLimit": 2048000,
      "rowLimit": 10000
     },
     "inputWidgets": {},
     "nuid": "ff391183-703d-4494-9836-a2575363f95a",
     "showTitle": false,
     "title": ""
    }
   },
   "outputs": [
    {
     "output_type": "display_data",
     "data": {
      "text/html": [
       "<style scoped>\n",
       "  .ansiout {\n",
       "    display: block;\n",
       "    unicode-bidi: embed;\n",
       "    white-space: pre-wrap;\n",
       "    word-wrap: break-word;\n",
       "    word-break: break-all;\n",
       "    font-family: \"Menlo\", \"Monaco\", \"Consolas\", \"Ubuntu Mono\", \"Source Code Pro\", monospace;\n",
       "    font-size: 13px;\n",
       "    color: #555;\n",
       "    margin-left: 4px;\n",
       "    line-height: 19px;\n",
       "  }\n",
       "</style>"
      ]
     },
     "metadata": {
      "application/vnd.databricks.v1+output": {
       "arguments": {},
       "data": "",
       "errorSummary": "The spark driver has stopped unexpectedly and is restarting. Your notebook will be automatically reattached.",
       "errorTraceType": "html",
       "metadata": {},
       "type": "ipynbError"
      }
     },
     "output_type": "display_data"
    }
   ],
   "source": [
    "import pandas as pd\n",
    "import logging\n",
    "import pdb\n",
    "\n",
    "from pyspark.sql.types import StringType, ArrayType, IntegerType, StructType, StructField\n",
    "\n",
    "\n",
    "def create_buckets(buckets, data):\n",
    "    rdd = sc.parallelize(data)\n",
    "    histogram = rdd.histogram(buckets)\n",
    "    return histogram\n",
    "\n",
    "def add_result(lastrow, offsetBuckets, weightBuckets, lengthBuckets):\n",
    "    newRow = dict()\n",
    "\n",
    "    newRow[\"camera\"] = lastrow.camera_name\n",
    "    newRow[\"timestamp\"] = lastrow.timestamp\n",
    "    newRow[\"year\"] = lastrow.year\n",
    "    newRow[\"month\"] = lastrow.month\n",
    "    newRow[\"day\"] = lastrow.day\n",
    "    newRow[\"offsetWeightHistogram\"] = offsetBuckets[1]\n",
    "    newRow[\"weightHistogram\"] = weightBuckets[1]\n",
    "    newRow[\"lengthHistogram\"] = lengthBuckets[1]\n",
    "    newRow[\"offsetWeightBuckets\"] = offsetBuckets[0]\n",
    "    newRow[\"weightBuckets\"] = weightBuckets[0]\n",
    "    newRow[\"lengthBuckets\"] = lengthBuckets[0]\n",
    "    histogramData.append(newRow)\n",
    "\n",
    "\n",
    "df = spark.read.table(\"hive_metastore.default.biomass_filtered\")\n",
    "\n",
    "# sdf = df.orderBy(\"camera_name\", \"year\", \"month\", \"day\").take(100000)\n",
    "sdf = df.orderBy(\"camera_name\", \"year\", \"month\", \"day\").collect()\n",
    "\n",
    "# track the current day\n",
    "lastrow = None\n",
    "lastitem = sdf[-1]\n",
    "\n",
    "# For final write back to delta\n",
    "histogramData = []\n",
    "\n",
    "# buckets to create\n",
    "accumulatedOffsetWeight = []\n",
    "accumulatedWeight = []\n",
    "accumulatedLength = []\n",
    "weight_buckets= [0, 800, 1200, 2700, 99999]\n",
    "lenght_buckets=[0, 10, 20, 30, 40, 50, 60, 70, 80, 90, 100]\n",
    "\n",
    "# only need to track if the day has changed\n",
    "for row in sdf:\n",
    "    if lastrow == None:\n",
    "        lastrow = row\n",
    "    #\n",
    "    if lastrow.day != row.day or row == lastitem:\n",
    "        # create buckets and add to histogramData frame\n",
    "        offsetWeightBuckets = create_buckets(weight_buckets, accumulatedOffsetWeight)\n",
    "        weightBuckets = create_buckets(weight_buckets, accumulatedWeight)\n",
    "        lengthBuckets = create_buckets(lenght_buckets, accumulatedLength)\n",
    "        add_result(lastrow, offsetWeightBuckets, weightBuckets, lengthBuckets)\n",
    "\n",
    "\n",
    "        # clear accumulated data \n",
    "        accumulatedOffsetWeight = []\n",
    "        accumulatedWeight = []\n",
    "        accumulatedLength = []\n",
    "\n",
    "        # update the last row\n",
    "        lastrow = row\n",
    "\n",
    "    else:\n",
    "        # accumulate data to bucket\n",
    "        accumulatedOffsetWeight.append(row.offset_weight)\n",
    "        accumulatedWeight.append(row.weight)\n",
    "        accumulatedLength.append(row.length)\n",
    "\n",
    "\n",
    "\n",
    "wdf = sc.parallelize(histogramData).toDF()\n",
    "wdf.write.mode(\"overwrite\").saveAsTable(\"default.view_biomass_daily_weight_histograms\")"
   ]
  },
  {
   "cell_type": "code",
   "execution_count": 0,
   "metadata": {
    "application/vnd.databricks.v1+cell": {
     "cellMetadata": {},
     "inputWidgets": {},
     "nuid": "19ff0f9b-0833-4eeb-abd8-4c0bb6786aa5",
     "showTitle": false,
     "title": ""
    }
   },
   "outputs": [],
   "source": []
  }
 ],
 "metadata": {
  "application/vnd.databricks.v1+notebook": {
   "dashboards": [],
   "language": "python",
   "notebookMetadata": {
    "mostRecentlyExecutedCommandWithImplicitDF": {
     "commandId": 847768126011280,
     "dataframes": [
      "_sqldf"
     ]
    },
    "pythonIndentUnit": 4
   },
   "notebookName": "view_biomass_daily_weight_histograms",
   "widgets": {}
  }
 },
 "nbformat": 4,
 "nbformat_minor": 0
}

