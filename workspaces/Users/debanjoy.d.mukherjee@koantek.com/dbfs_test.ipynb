{
 "cells": [
  {
   "cell_type": "code",
   "execution_count": 0,
   "metadata": {
    "application/vnd.databricks.v1+cell": {
     "cellMetadata": {
      "byteLimit": 2048000,
      "rowLimit": 10000
     },
     "inputWidgets": {},
     "nuid": "46163cfe-c5f6-4e66-bbfa-a1140b61cc7e",
     "showTitle": false,
     "title": ""
    }
   },
   "outputs": [
    {
     "output_type": "display_data",
     "data": {
      "text/html": [
       "<style scoped>\n",
       "  .table-result-container {\n",
       "    max-height: 300px;\n",
       "    overflow: auto;\n",
       "  }\n",
       "  table, th, td {\n",
       "    border: 1px solid black;\n",
       "    border-collapse: collapse;\n",
       "  }\n",
       "  th, td {\n",
       "    padding: 5px;\n",
       "  }\n",
       "  th {\n",
       "    text-align: left;\n",
       "  }\n",
       "</style><div class='table-result-container'><table class='table-result'><thead style='background-color: white'><tr><th>path</th><th>name</th><th>size</th><th>modificationTime</th></tr></thead><tbody><tr><td>dbfs:/FileStore/Environment_Assessment/catalogs.parquet/</td><td>catalogs.parquet/</td><td>0</td><td>1694713722820</td></tr><tr><td>dbfs:/FileStore/Environment_Assessment/cluster_permissions.parquet/</td><td>cluster_permissions.parquet/</td><td>0</td><td>1694713722820</td></tr><tr><td>dbfs:/FileStore/Environment_Assessment/cluster_policies.parquet/</td><td>cluster_policies.parquet/</td><td>0</td><td>1694713722821</td></tr><tr><td>dbfs:/FileStore/Environment_Assessment/clusters.parquet/</td><td>clusters.parquet/</td><td>0</td><td>1694713722821</td></tr><tr><td>dbfs:/FileStore/Environment_Assessment/databases.parquet/</td><td>databases.parquet/</td><td>0</td><td>1694713722821</td></tr><tr><td>dbfs:/FileStore/Environment_Assessment/dlt_pipeline_permissions.parquet/</td><td>dlt_pipeline_permissions.parquet/</td><td>0</td><td>1694713722821</td></tr><tr><td>dbfs:/FileStore/Environment_Assessment/dlt_pipelines.parquet/</td><td>dlt_pipelines.parquet/</td><td>0</td><td>1694713722821</td></tr><tr><td>dbfs:/FileStore/Environment_Assessment/experiments.parquet/</td><td>experiments.parquet/</td><td>0</td><td>1694713722821</td></tr><tr><td>dbfs:/FileStore/Environment_Assessment/groups.parquet/</td><td>groups.parquet/</td><td>0</td><td>1694713722821</td></tr><tr><td>dbfs:/FileStore/Environment_Assessment/instance_profiles.parquet/</td><td>instance_profiles.parquet/</td><td>0</td><td>1694713722821</td></tr><tr><td>dbfs:/FileStore/Environment_Assessment/job_permissions.parquet/</td><td>job_permissions.parquet/</td><td>0</td><td>1694713722821</td></tr><tr><td>dbfs:/FileStore/Environment_Assessment/jobs.parquet/</td><td>jobs.parquet/</td><td>0</td><td>1694713722821</td></tr><tr><td>dbfs:/FileStore/Environment_Assessment/mount_points.parquet/</td><td>mount_points.parquet/</td><td>0</td><td>1694713722821</td></tr><tr><td>dbfs:/FileStore/Environment_Assessment/service_principals.parquet/</td><td>service_principals.parquet/</td><td>0</td><td>1694713722821</td></tr><tr><td>dbfs:/FileStore/Environment_Assessment/sql_alerts.parquet/</td><td>sql_alerts.parquet/</td><td>0</td><td>1694713722821</td></tr><tr><td>dbfs:/FileStore/Environment_Assessment/sql_dashboards.parquet/</td><td>sql_dashboards.parquet/</td><td>0</td><td>1694713722821</td></tr><tr><td>dbfs:/FileStore/Environment_Assessment/sql_permissions.parquet/</td><td>sql_permissions.parquet/</td><td>0</td><td>1694713722821</td></tr><tr><td>dbfs:/FileStore/Environment_Assessment/sql_queries.parquet/</td><td>sql_queries.parquet/</td><td>0</td><td>1694713722821</td></tr><tr><td>dbfs:/FileStore/Environment_Assessment/table_grants.parquet/</td><td>table_grants.parquet/</td><td>0</td><td>1694713722821</td></tr><tr><td>dbfs:/FileStore/Environment_Assessment/tables.parquet/</td><td>tables.parquet/</td><td>0</td><td>1694713722821</td></tr><tr><td>dbfs:/FileStore/Environment_Assessment/users.parquet/</td><td>users.parquet/</td><td>0</td><td>1694713722821</td></tr><tr><td>dbfs:/FileStore/Environment_Assessment/warehouse_permissions.parquet/</td><td>warehouse_permissions.parquet/</td><td>0</td><td>1694713722821</td></tr><tr><td>dbfs:/FileStore/Environment_Assessment/warehouses.parquet/</td><td>warehouses.parquet/</td><td>0</td><td>1694713722821</td></tr></tbody></table></div>"
      ]
     },
     "metadata": {
      "application/vnd.databricks.v1+output": {
       "addedWidgets": {},
       "aggData": [],
       "aggError": "",
       "aggOverflow": false,
       "aggSchema": [],
       "aggSeriesLimitReached": false,
       "aggType": "",
       "arguments": {},
       "columnCustomDisplayInfos": {},
       "data": [
        [
         "dbfs:/FileStore/Environment_Assessment/catalogs.parquet/",
         "catalogs.parquet/",
         0,
         1694713722820
        ],
        [
         "dbfs:/FileStore/Environment_Assessment/cluster_permissions.parquet/",
         "cluster_permissions.parquet/",
         0,
         1694713722820
        ],
        [
         "dbfs:/FileStore/Environment_Assessment/cluster_policies.parquet/",
         "cluster_policies.parquet/",
         0,
         1694713722821
        ],
        [
         "dbfs:/FileStore/Environment_Assessment/clusters.parquet/",
         "clusters.parquet/",
         0,
         1694713722821
        ],
        [
         "dbfs:/FileStore/Environment_Assessment/databases.parquet/",
         "databases.parquet/",
         0,
         1694713722821
        ],
        [
         "dbfs:/FileStore/Environment_Assessment/dlt_pipeline_permissions.parquet/",
         "dlt_pipeline_permissions.parquet/",
         0,
         1694713722821
        ],
        [
         "dbfs:/FileStore/Environment_Assessment/dlt_pipelines.parquet/",
         "dlt_pipelines.parquet/",
         0,
         1694713722821
        ],
        [
         "dbfs:/FileStore/Environment_Assessment/experiments.parquet/",
         "experiments.parquet/",
         0,
         1694713722821
        ],
        [
         "dbfs:/FileStore/Environment_Assessment/groups.parquet/",
         "groups.parquet/",
         0,
         1694713722821
        ],
        [
         "dbfs:/FileStore/Environment_Assessment/instance_profiles.parquet/",
         "instance_profiles.parquet/",
         0,
         1694713722821
        ],
        [
         "dbfs:/FileStore/Environment_Assessment/job_permissions.parquet/",
         "job_permissions.parquet/",
         0,
         1694713722821
        ],
        [
         "dbfs:/FileStore/Environment_Assessment/jobs.parquet/",
         "jobs.parquet/",
         0,
         1694713722821
        ],
        [
         "dbfs:/FileStore/Environment_Assessment/mount_points.parquet/",
         "mount_points.parquet/",
         0,
         1694713722821
        ],
        [
         "dbfs:/FileStore/Environment_Assessment/service_principals.parquet/",
         "service_principals.parquet/",
         0,
         1694713722821
        ],
        [
         "dbfs:/FileStore/Environment_Assessment/sql_alerts.parquet/",
         "sql_alerts.parquet/",
         0,
         1694713722821
        ],
        [
         "dbfs:/FileStore/Environment_Assessment/sql_dashboards.parquet/",
         "sql_dashboards.parquet/",
         0,
         1694713722821
        ],
        [
         "dbfs:/FileStore/Environment_Assessment/sql_permissions.parquet/",
         "sql_permissions.parquet/",
         0,
         1694713722821
        ],
        [
         "dbfs:/FileStore/Environment_Assessment/sql_queries.parquet/",
         "sql_queries.parquet/",
         0,
         1694713722821
        ],
        [
         "dbfs:/FileStore/Environment_Assessment/table_grants.parquet/",
         "table_grants.parquet/",
         0,
         1694713722821
        ],
        [
         "dbfs:/FileStore/Environment_Assessment/tables.parquet/",
         "tables.parquet/",
         0,
         1694713722821
        ],
        [
         "dbfs:/FileStore/Environment_Assessment/users.parquet/",
         "users.parquet/",
         0,
         1694713722821
        ],
        [
         "dbfs:/FileStore/Environment_Assessment/warehouse_permissions.parquet/",
         "warehouse_permissions.parquet/",
         0,
         1694713722821
        ],
        [
         "dbfs:/FileStore/Environment_Assessment/warehouses.parquet/",
         "warehouses.parquet/",
         0,
         1694713722821
        ]
       ],
       "datasetInfos": [],
       "dbfsResultPath": null,
       "isJsonSchema": true,
       "metadata": {
        "isDbfsCommandResult": false
       },
       "overflow": false,
       "plotOptions": {
        "customPlotOptions": {},
        "displayType": "table",
        "pivotAggregation": null,
        "pivotColumns": null,
        "xColumns": null,
        "yColumns": null
       },
       "removedWidgets": [],
       "schema": [
        {
         "metadata": "{}",
         "name": "path",
         "type": "\"string\""
        },
        {
         "metadata": "{}",
         "name": "name",
         "type": "\"string\""
        },
        {
         "metadata": "{}",
         "name": "size",
         "type": "\"long\""
        },
        {
         "metadata": "{}",
         "name": "modificationTime",
         "type": "\"long\""
        }
       ],
       "type": "table"
      }
     },
     "output_type": "display_data"
    }
   ],
   "source": [
    "%fs\n",
    "ls /FileStore/Environment_Assessment"
   ]
  },
  {
   "cell_type": "code",
   "execution_count": 0,
   "metadata": {
    "application/vnd.databricks.v1+cell": {
     "cellMetadata": {
      "byteLimit": 2048000,
      "rowLimit": 10000
     },
     "inputWidgets": {},
     "nuid": "51bb24d7-123d-43bd-872c-d77ec4b12f68",
     "showTitle": false,
     "title": ""
    }
   },
   "outputs": [
    {
     "output_type": "display_data",
     "data": {
      "text/html": [
       "<a href=\"dbfs:/FileStore/Environment_Assessment/catalogs.parquet/\" download>Download PARQUET </a>"
      ]
     },
     "metadata": {},
     "output_type": "display_data"
    }
   ],
   "source": [
    "%python\n",
    "displayHTML(\"\"\"<a href=\"dbfs:/FileStore/Environment_Assessment/catalogs.parquet/\" download>Download PARQUET </a>\"\"\")"
   ]
  },
  {
   "cell_type": "code",
   "execution_count": 0,
   "metadata": {
    "application/vnd.databricks.v1+cell": {
     "cellMetadata": {},
     "inputWidgets": {},
     "nuid": "42376f00-5897-454a-8ce8-15ab14f8e777",
     "showTitle": false,
     "title": ""
    }
   },
   "outputs": [],
   "source": []
  }
 ],
 "metadata": {
  "application/vnd.databricks.v1+notebook": {
   "dashboards": [],
   "language": "python",
   "notebookMetadata": {
    "mostRecentlyExecutedCommandWithImplicitDF": {
     "commandId": 2202567380881868,
     "dataframes": [
      "_sqldf"
     ]
    },
    "pythonIndentUnit": 4
   },
   "notebookName": "dbfs test",
   "widgets": {}
  }
 },
 "nbformat": 4,
 "nbformat_minor": 0
}

