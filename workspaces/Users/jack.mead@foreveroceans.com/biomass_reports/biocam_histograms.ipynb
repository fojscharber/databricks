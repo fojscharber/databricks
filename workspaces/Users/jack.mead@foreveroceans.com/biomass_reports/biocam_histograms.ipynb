{
 "cells": [
  {
   "cell_type": "code",
   "execution_count": 0,
   "metadata": {
    "application/vnd.databricks.v1+cell": {
     "cellMetadata": {
      "byteLimit": 2048000,
      "rowLimit": 10000
     },
     "inputWidgets": {},
     "nuid": "58084ed5-ab90-4fdc-9c94-eda5f2bfb8ae",
     "showTitle": false,
     "title": ""
    }
   },
   "outputs": [
    {
     "output_type": "display_data",
     "data": {
      "application/vnd.databricks.v1+bamboolib_hint": "{\"pd.DataFrames\": [], \"version\": \"0.0.1\"}",
      "text/plain": []
     },
     "metadata": {},
     "output_type": "display_data"
    }
   ],
   "source": [
    "import seaborn as sns\n",
    "import matplotlib.pyplot as plt\n",
    "import numpy as np\n",
    "import pandas as pd\n",
    "import scipy.stats as stats\n",
    "import calendar"
   ]
  },
  {
   "cell_type": "code",
   "execution_count": 0,
   "metadata": {
    "application/vnd.databricks.v1+cell": {
     "cellMetadata": {
      "byteLimit": 2048000,
      "rowLimit": 10000
     },
     "inputWidgets": {},
     "nuid": "b161c2b3-b158-4df2-9d1a-b7c134c9d597",
     "showTitle": false,
     "title": ""
    }
   },
   "outputs": [
    {
     "output_type": "display_data",
     "data": {
      "text/html": [
       "<div>\n",
       "<style scoped>\n",
       "    .dataframe tbody tr th:only-of-type {\n",
       "        vertical-align: middle;\n",
       "    }\n",
       "\n",
       "    .dataframe tbody tr th {\n",
       "        vertical-align: top;\n",
       "    }\n",
       "\n",
       "    .dataframe thead th {\n",
       "        text-align: right;\n",
       "    }\n",
       "</style>\n",
       "<table border=\"1\" class=\"dataframe\">\n",
       "  <thead>\n",
       "    <tr style=\"text-align: right;\">\n",
       "      <th></th>\n",
       "      <th>offset_weight</th>\n",
       "      <th>timestamp</th>\n",
       "      <th>date</th>\n",
       "    </tr>\n",
       "  </thead>\n",
       "  <tbody>\n",
       "    <tr>\n",
       "      <th>0</th>\n",
       "      <td>1230.076239</td>\n",
       "      <td>2023-04-09 14:15:02</td>\n",
       "      <td>2023-04-09</td>\n",
       "    </tr>\n",
       "    <tr>\n",
       "      <th>1</th>\n",
       "      <td>1626.703582</td>\n",
       "      <td>2023-04-09 14:30:27</td>\n",
       "      <td>2023-04-09</td>\n",
       "    </tr>\n",
       "    <tr>\n",
       "      <th>2</th>\n",
       "      <td>1987.992533</td>\n",
       "      <td>2023-04-09 14:34:37</td>\n",
       "      <td>2023-04-09</td>\n",
       "    </tr>\n",
       "    <tr>\n",
       "      <th>3</th>\n",
       "      <td>1848.012092</td>\n",
       "      <td>2023-04-09 14:35:47</td>\n",
       "      <td>2023-04-09</td>\n",
       "    </tr>\n",
       "    <tr>\n",
       "      <th>4</th>\n",
       "      <td>2211.881715</td>\n",
       "      <td>2023-04-09 14:51:17</td>\n",
       "      <td>2023-04-09</td>\n",
       "    </tr>\n",
       "    <tr>\n",
       "      <th>...</th>\n",
       "      <td>...</td>\n",
       "      <td>...</td>\n",
       "      <td>...</td>\n",
       "    </tr>\n",
       "    <tr>\n",
       "      <th>582048</th>\n",
       "      <td>1558.647208</td>\n",
       "      <td>2023-03-28 13:40:47</td>\n",
       "      <td>2023-03-28</td>\n",
       "    </tr>\n",
       "    <tr>\n",
       "      <th>582049</th>\n",
       "      <td>937.878558</td>\n",
       "      <td>2023-03-28 15:32:42</td>\n",
       "      <td>2023-03-28</td>\n",
       "    </tr>\n",
       "    <tr>\n",
       "      <th>582050</th>\n",
       "      <td>4059.154434</td>\n",
       "      <td>2023-03-28 13:43:32</td>\n",
       "      <td>2023-03-28</td>\n",
       "    </tr>\n",
       "    <tr>\n",
       "      <th>582051</th>\n",
       "      <td>1890.418258</td>\n",
       "      <td>2023-03-26 21:22:34</td>\n",
       "      <td>2023-03-26</td>\n",
       "    </tr>\n",
       "    <tr>\n",
       "      <th>582052</th>\n",
       "      <td>1473.257933</td>\n",
       "      <td>2023-03-26 21:49:04</td>\n",
       "      <td>2023-03-26</td>\n",
       "    </tr>\n",
       "  </tbody>\n",
       "</table>\n",
       "<p>582053 rows × 3 columns</p>\n",
       "</div>"
      ]
     },
     "metadata": {
      "application/vnd.databricks.v1+output": {
       "addedWidgets": {},
       "arguments": {},
       "data": "<div>\n<style scoped>\n    .dataframe tbody tr th:only-of-type {\n        vertical-align: middle;\n    }\n\n    .dataframe tbody tr th {\n        vertical-align: top;\n    }\n\n    .dataframe thead th {\n        text-align: right;\n    }\n</style>\n<table border=\"1\" class=\"dataframe\">\n  <thead>\n    <tr style=\"text-align: right;\">\n      <th></th>\n      <th>offset_weight</th>\n      <th>timestamp</th>\n      <th>date</th>\n    </tr>\n  </thead>\n  <tbody>\n    <tr>\n      <th>0</th>\n      <td>1230.076239</td>\n      <td>2023-04-09 14:15:02</td>\n      <td>2023-04-09</td>\n    </tr>\n    <tr>\n      <th>1</th>\n      <td>1626.703582</td>\n      <td>2023-04-09 14:30:27</td>\n      <td>2023-04-09</td>\n    </tr>\n    <tr>\n      <th>2</th>\n      <td>1987.992533</td>\n      <td>2023-04-09 14:34:37</td>\n      <td>2023-04-09</td>\n    </tr>\n    <tr>\n      <th>3</th>\n      <td>1848.012092</td>\n      <td>2023-04-09 14:35:47</td>\n      <td>2023-04-09</td>\n    </tr>\n    <tr>\n      <th>4</th>\n      <td>2211.881715</td>\n      <td>2023-04-09 14:51:17</td>\n      <td>2023-04-09</td>\n    </tr>\n    <tr>\n      <th>...</th>\n      <td>...</td>\n      <td>...</td>\n      <td>...</td>\n    </tr>\n    <tr>\n      <th>582048</th>\n      <td>1558.647208</td>\n      <td>2023-03-28 13:40:47</td>\n      <td>2023-03-28</td>\n    </tr>\n    <tr>\n      <th>582049</th>\n      <td>937.878558</td>\n      <td>2023-03-28 15:32:42</td>\n      <td>2023-03-28</td>\n    </tr>\n    <tr>\n      <th>582050</th>\n      <td>4059.154434</td>\n      <td>2023-03-28 13:43:32</td>\n      <td>2023-03-28</td>\n    </tr>\n    <tr>\n      <th>582051</th>\n      <td>1890.418258</td>\n      <td>2023-03-26 21:22:34</td>\n      <td>2023-03-26</td>\n    </tr>\n    <tr>\n      <th>582052</th>\n      <td>1473.257933</td>\n      <td>2023-03-26 21:49:04</td>\n      <td>2023-03-26</td>\n    </tr>\n  </tbody>\n</table>\n<p>582053 rows × 3 columns</p>\n</div>",
       "datasetInfos": [],
       "metadata": {},
       "removedWidgets": [],
       "textData": null,
       "type": "htmlSandbox"
      }
     },
     "output_type": "display_data"
    }
   ],
   "source": [
    "df_90 = spark.sql(\"SELECT offset_weight, timestamp FROM biomass_filtered WHERE camera_name = 'biocamsvid90'\").toPandas()\n",
    "\n",
    "df_90['date'] = df_90.timestamp.dt.date\n",
    "df_90.offset_weight = df_90.offset_weight.astype(float)\n",
    "\n",
    "df_90"
   ]
  },
  {
   "cell_type": "code",
   "execution_count": 0,
   "metadata": {
    "application/vnd.databricks.v1+cell": {
     "cellMetadata": {
      "byteLimit": 2048000,
      "rowLimit": 10000
     },
     "inputWidgets": {},
     "nuid": "d49eeb67-8b6e-4f3f-a9a5-1e6f15607beb",
     "showTitle": false,
     "title": ""
    }
   },
   "outputs": [
    {
     "output_type": "stream",
     "name": "stdout",
     "output_type": "stream",
     "text": [
      "/databricks/python/lib/python3.9/site-packages/pandas/core/ops/array_ops.py:73: FutureWarning: Comparison of Timestamp with datetime.date is deprecated in order to match the standard library behavior.  In a future version these will be considered non-comparable.Use 'ts == pd.Timestamp(date)' or 'ts.date() == date' instead.\n  result = libops.scalar_compare(x.ravel(), y, op)\n"
     ]
    },
    {
     "output_type": "display_data",
     "data": {
      "image/png": "[encoded data removed]"
     },
     "metadata": {
      "application/vnd.databricks.v1+output": {
       "addedWidgets": {},
       "arguments": {},
       "data": "data:image/png;base64,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\n",
       "datasetInfos": [],
       "metadata": {},
       "removedWidgets": [],
       "type": "image"
      }
     },
     "output_type": "display_data"
    },
    {
     "output_type": "stream",
     "name": "stdout",
     "output_type": "stream",
     "text": [
      "Out[7]: (array([   60.,    54.,   565.,  3027.,  6850., 11628., 14872., 16908.,\n        16593., 15050., 12993., 10195.,  7440.,  5228.,  3609.,  2481.,\n         1621.,  1061.,   710.,   434.]),\n array([   5.67627566,  217.41013455,  429.14399344,  640.87785233,\n         852.61171122, 1064.34557012, 1276.07942901, 1487.8132879 ,\n        1699.54714679, 1911.28100568, 2123.01486457, 2334.74872347,\n        2546.48258236, 2758.21644125, 2969.95030014, 3181.68415903,\n        3393.41801793, 3605.15187682, 3816.88573571, 4028.6195946 ,\n        4240.35345349]),\n <BarContainer object of 20 artists>)"
     ]
    },
    {
     "output_type": "display_data",
     "data": {
      "image/png": "[encoded data removed]"
     },
     "metadata": {
      "application/vnd.databricks.v1+output": {
       "addedWidgets": {},
       "arguments": {},
       "data": "data:image/png;base64,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\n",
       "datasetInfos": [],
       "metadata": {},
       "removedWidgets": [],
       "type": "image"
      }
     },
     "output_type": "display_data"
    }
   ],
   "source": [
    "df_may = df_90[(df_90['date'] > pd.to_datetime('2023-05-01')) & (df_90['date'] < pd.to_datetime('2023-05-31'))]\n",
    "\n",
    "plt.hist(df_may.offset_weight, bins=20)\n",
    "plt.show()\n",
    "\n",
    "df_april = df_90[(df_90['date'] > pd.to_datetime('2023-04-01')) & (df_90['date'] < pd.to_datetime('2023-04-30'))]\n",
    "\n",
    "plt.hist(df_april.offset_weight, bins=20)"
   ]
  }
 ],
 "metadata": {
  "application/vnd.databricks.v1+notebook": {
   "dashboards": [],
   "language": "python",
   "notebookMetadata": {
    "pythonIndentUnit": 4
   },
   "notebookName": "biocam_histograms",
   "widgets": {}
  }
 },
 "nbformat": 4,
 "nbformat_minor": 0
}
